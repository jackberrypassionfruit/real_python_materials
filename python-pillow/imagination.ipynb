{
 "cells": [
  {
   "cell_type": "code",
   "execution_count": null,
   "metadata": {},
   "outputs": [],
   "source": [
    "import numpy as np\n",
    "from PIL import Image, ImageFilter\n",
    "\n",
    "square = np.zeros((600, 600))\n",
    "square[200:400, 200:400] = 255\n",
    "\n",
    "square_img = Image.fromarray(square).convert(\"L\")"
   ]
  },
  {
   "cell_type": "code",
   "execution_count": null,
   "metadata": {},
   "outputs": [],
   "source": [
    "# square_img.show()"
   ]
  },
  {
   "cell_type": "code",
   "execution_count": null,
   "metadata": {},
   "outputs": [],
   "source": [
    "red = np.zeros((600, 600))\n",
    "green = np.zeros((600, 600))\n",
    "blue = np.zeros((600, 600))\n",
    "red[150:350, 150:350] = 255\n",
    "green[200:400, 200:400] = 255\n",
    "blue[250:450, 250:450] = 255\n",
    "\n",
    "red_img = Image.fromarray(red).convert(\"L\")\n",
    "green_img = Image.fromarray(green).convert(\"L\")\n",
    "blue_img = Image.fromarray((blue)).convert(\"L\")\n",
    "\n",
    "square_img = Image.merge(\"RGB\", (red_img, green_img, blue_img))"
   ]
  },
  {
   "cell_type": "code",
   "execution_count": null,
   "metadata": {},
   "outputs": [],
   "source": [
    "# display(square_img)"
   ]
  },
  {
   "cell_type": "code",
   "execution_count": null,
   "metadata": {},
   "outputs": [],
   "source": [
    "square_animation = []\n",
    "for offset in range(0, 100, 2):\n",
    "  red = np.zeros((600, 600))\n",
    "  green = np.zeros((600, 600))\n",
    "  blue = np.zeros((600, 600))\n",
    "  red[101 + offset : 301 + offset, 101 + offset : 301 + offset] = 255\n",
    "  green[200:400, 200:400] = 255\n",
    "  blue[299 - offset : 499 - offset, 299 - offset : 499 - offset] = 255\n",
    "  red_img = Image.fromarray(red).convert(\"L\")\n",
    "  green_img = Image.fromarray(green).convert(\"L\")\n",
    "  blue_img = Image.fromarray((blue)).convert(\"L\")\n",
    "  square_animation.append(\n",
    "      Image.merge(\n",
    "          \"RGB\",\n",
    "          (red_img, green_img, blue_img)\n",
    "      )\n",
    "  )\n",
    "    \n",
    "square_animation[0].save(\n",
    "  \"animation.gif\", save_all=True, append_images=square_animation[1:]\n",
    ")"
   ]
  },
  {
   "cell_type": "code",
   "execution_count": null,
   "metadata": {},
   "outputs": [],
   "source": []
  }
 ],
 "metadata": {
  "kernelspec": {
   "display_name": "venv",
   "language": "python",
   "name": "python3"
  },
  "language_info": {
   "codemirror_mode": {
    "name": "ipython",
    "version": 3
   },
   "file_extension": ".py",
   "mimetype": "text/x-python",
   "name": "python",
   "nbconvert_exporter": "python",
   "pygments_lexer": "ipython3",
   "version": "3.10.12"
  }
 },
 "nbformat": 4,
 "nbformat_minor": 2
}
